{
 "cells": [
  {
   "cell_type": "code",
   "execution_count": 1,
   "id": "342daf41",
   "metadata": {},
   "outputs": [],
   "source": [
    "import pandas as pd\n",
    "\n",
    "df2 = pd.read_csv('historical_emissions.csv')\n",
    "\n",
    "X = range(1990, 2020)\n",
    "sectors = list(df2['Sector'].unique())\n",
    "\n",
    "sector_dict = {}\n",
    "\n",
    "for sector in sectors:\n",
    "    if sector != 'Electricity/Heat':\n",
    "        sector_dict[sector] = []\n",
    "\n",
    "        for i in X:\n",
    "            if sector != 'Energy':\n",
    "                total_sector_emission = df2[df2['Sector'] == sector][f\"{i}\"].sum()\n",
    "                sector_dict[sector].append(total_sector_emission)\n",
    "            else:\n",
    "                total_energy_emission = df2[df2['Sector'] == sector][f\"{i}\"].sum()\n",
    "                total_elec_heat_emission = df2[df2['Sector'] == 'Electricity/Heat'][f\"{i}\"].sum()\n",
    "\n",
    "                total_sector_emission = total_energy_emission + total_elec_heat_emission\n",
    "                sector_dict[sector].append(total_sector_emission)\n",
    "\n",
    "frame = []\n",
    "\n",
    "for i in range(len(X)):\n",
    "    temp_lst = [X[i]]\n",
    "    \n",
    "    for key in sector_dict:\n",
    "        temp_lst.append(sector_dict[key][i])\n",
    "    \n",
    "    frame.append(temp_lst)\n",
    "    \n",
    "sectors.remove('Electricity/Heat')\n",
    "    \n",
    "df_vis_2 = pd.DataFrame(\n",
    "             frame,\n",
    "             columns = ['Year'] + sectors)\n",
    "             \n",
    "df_vis_2.to_csv('historical_emissions (cleanest).csv')"
   ]
  },
  {
   "cell_type": "code",
   "execution_count": null,
   "id": "379265d8",
   "metadata": {},
   "outputs": [],
   "source": []
  }
 ],
 "metadata": {
  "kernelspec": {
   "display_name": "Python 3 (ipykernel)",
   "language": "python",
   "name": "python3"
  },
  "language_info": {
   "codemirror_mode": {
    "name": "ipython",
    "version": 3
   },
   "file_extension": ".py",
   "mimetype": "text/x-python",
   "name": "python",
   "nbconvert_exporter": "python",
   "pygments_lexer": "ipython3",
   "version": "3.8.10"
  }
 },
 "nbformat": 4,
 "nbformat_minor": 5
}
