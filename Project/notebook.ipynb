{
 "cells": [
  {
   "cell_type": "markdown",
   "id": "5013a8be",
   "metadata": {},
   "source": [
    "## Draft datastory\n",
    "20-06-23\n",
    "- Maurits van der Does Willebois\n",
    "- Luc buijs\n",
    "- Lucas Woudstra\n",
    "- Finn Govers\n"
   ]
  },
  {
   "cell_type": "markdown",
   "id": "bcfd86fd",
   "metadata": {},
   "source": [
    "## Introduction\n",
    "\n",
    "Climate change is one of the most pressing debates of todays society, (most) scientists have come to the conclusion that if we don't do something quickly, humanity is in serious danger from the consequences. We decided to look at what the root of this problem is, more specificly, which industrial sector is currently the biggest threat to our society. There are a few obvious contenders, many may think the biggest emission source are fossil fuels, or more general the fuel industry. We will try to see wether this is accurate or not by comparing the emissions of different\n",
    "industries throughout the years. We have found two different perspectives: \n",
    "\n",
    "Our first perspective on the topic is that it is necessary to switch from fossil fuels to\n",
    "renewable energy sources. Fossil fuels have a massive impact on climate change due to their large\n",
    "amount of greenhouse gas emission. Immediate action is required to look for greener fuels and energy\n",
    "with lower amounts of greenhouse gas emission. This would help slow down the climate change drastically.\n",
    "\n",
    "Our second perspective is that the biggest problem isn’t the energie sector, but something\n",
    "entirely different. For instance a while ago it came to light how big of an impact the meat\n",
    "industry has on CO2 emissions across the world, because of how many acres of land\n",
    "espescially cows need to be fed and kept. Examples like this lead us to believe that the\n",
    "fossil fuel industrie probably isn’t the biggest threat to the rappid climate change\n",
    "happening right now."
   ]
  },
  {
   "cell_type": "markdown",
   "id": "5fc7d0e5",
   "metadata": {},
   "source": [
    "## Dataset and preprocessing"
   ]
  },
  {
   "cell_type": "code",
   "execution_count": 22,
   "id": "362970c9",
   "metadata": {},
   "outputs": [],
   "source": [
    "import pandas as pd\n",
    "import plotly.graph_objects as go\n",
    "import matplotlib.pyplot as plt\n",
    "import plotly.express as px\n",
    "import kaleido\n"
   ]
  },
  {
   "cell_type": "markdown",
   "id": "127371ff",
   "metadata": {},
   "source": [
    "## Load data"
   ]
  },
  {
   "cell_type": "code",
   "execution_count": 23,
   "id": "5d4b8ce2",
   "metadata": {},
   "outputs": [
    {
     "data": {
      "text/html": [
       "<div>\n",
       "<style scoped>\n",
       "    .dataframe tbody tr th:only-of-type {\n",
       "        vertical-align: middle;\n",
       "    }\n",
       "\n",
       "    .dataframe tbody tr th {\n",
       "        vertical-align: top;\n",
       "    }\n",
       "\n",
       "    .dataframe thead th {\n",
       "        text-align: right;\n",
       "    }\n",
       "</style>\n",
       "<table border=\"1\" class=\"dataframe\">\n",
       "  <thead>\n",
       "    <tr style=\"text-align: right;\">\n",
       "      <th></th>\n",
       "      <th>Unnamed: 0</th>\n",
       "      <th>Year</th>\n",
       "      <th>Building</th>\n",
       "      <th>Bunker Fuels</th>\n",
       "      <th>Energy</th>\n",
       "      <th>Fugitive Emissions</th>\n",
       "      <th>Industrial Processes</th>\n",
       "      <th>Land-Use Change and Forestry</th>\n",
       "      <th>Manufacturing/Construction</th>\n",
       "      <th>Other Fuel Combustion</th>\n",
       "      <th>Transportation</th>\n",
       "    </tr>\n",
       "  </thead>\n",
       "  <tbody>\n",
       "    <tr>\n",
       "      <th>0</th>\n",
       "      <td>0</td>\n",
       "      <td>1990</td>\n",
       "      <td>2335.46</td>\n",
       "      <td>486.39</td>\n",
       "      <td>25532.47</td>\n",
       "      <td>151.18</td>\n",
       "      <td>361.22</td>\n",
       "      <td>533.38</td>\n",
       "      <td>3460.37</td>\n",
       "      <td>616.23</td>\n",
       "      <td>3574.72</td>\n",
       "    </tr>\n",
       "    <tr>\n",
       "      <th>1</th>\n",
       "      <td>1</td>\n",
       "      <td>1991</td>\n",
       "      <td>2368.25</td>\n",
       "      <td>501.49</td>\n",
       "      <td>25864.67</td>\n",
       "      <td>169.04</td>\n",
       "      <td>381.30</td>\n",
       "      <td>533.38</td>\n",
       "      <td>3408.20</td>\n",
       "      <td>629.47</td>\n",
       "      <td>3616.04</td>\n",
       "    </tr>\n",
       "    <tr>\n",
       "      <th>2</th>\n",
       "      <td>2</td>\n",
       "      <td>1992</td>\n",
       "      <td>2285.30</td>\n",
       "      <td>522.09</td>\n",
       "      <td>26048.75</td>\n",
       "      <td>209.78</td>\n",
       "      <td>447.53</td>\n",
       "      <td>533.47</td>\n",
       "      <td>3318.01</td>\n",
       "      <td>562.06</td>\n",
       "      <td>3675.39</td>\n",
       "    </tr>\n",
       "    <tr>\n",
       "      <th>3</th>\n",
       "      <td>3</td>\n",
       "      <td>1993</td>\n",
       "      <td>2342.71</td>\n",
       "      <td>511.67</td>\n",
       "      <td>26218.17</td>\n",
       "      <td>219.53</td>\n",
       "      <td>468.32</td>\n",
       "      <td>533.47</td>\n",
       "      <td>3292.90</td>\n",
       "      <td>583.70</td>\n",
       "      <td>3710.05</td>\n",
       "    </tr>\n",
       "    <tr>\n",
       "      <th>4</th>\n",
       "      <td>4</td>\n",
       "      <td>1994</td>\n",
       "      <td>2262.37</td>\n",
       "      <td>530.25</td>\n",
       "      <td>26394.04</td>\n",
       "      <td>230.07</td>\n",
       "      <td>502.00</td>\n",
       "      <td>533.23</td>\n",
       "      <td>3325.15</td>\n",
       "      <td>563.34</td>\n",
       "      <td>3775.52</td>\n",
       "    </tr>\n",
       "  </tbody>\n",
       "</table>\n",
       "</div>"
      ],
      "text/plain": [
       "   Unnamed: 0  Year  Building  Bunker Fuels    Energy  Fugitive Emissions  \\\n",
       "0           0  1990   2335.46        486.39  25532.47              151.18   \n",
       "1           1  1991   2368.25        501.49  25864.67              169.04   \n",
       "2           2  1992   2285.30        522.09  26048.75              209.78   \n",
       "3           3  1993   2342.71        511.67  26218.17              219.53   \n",
       "4           4  1994   2262.37        530.25  26394.04              230.07   \n",
       "\n",
       "   Industrial Processes  Land-Use Change and Forestry  \\\n",
       "0                361.22                        533.38   \n",
       "1                381.30                        533.38   \n",
       "2                447.53                        533.47   \n",
       "3                468.32                        533.47   \n",
       "4                502.00                        533.23   \n",
       "\n",
       "   Manufacturing/Construction  Other Fuel Combustion  Transportation  \n",
       "0                     3460.37                 616.23         3574.72  \n",
       "1                     3408.20                 629.47         3616.04  \n",
       "2                     3318.01                 562.06         3675.39  \n",
       "3                     3292.90                 583.70         3710.05  \n",
       "4                     3325.15                 563.34         3775.52  "
      ]
     },
     "execution_count": 23,
     "metadata": {},
     "output_type": "execute_result"
    }
   ],
   "source": [
    "df = pd.read_csv('historical_emissions (cleanest).csv')\n",
    "\n",
    "df.head(n=5)"
   ]
  },
  {
   "cell_type": "markdown",
   "id": "e33db339",
   "metadata": {},
   "source": [
    "## Plot data"
   ]
  },
  {
   "cell_type": "code",
   "execution_count": 24,
   "id": "f405e4d1",
   "metadata": {
    "scrolled": false
   },
   "outputs": [],
   "source": [
    "# Calculate the average MtCO₂e for all sectors per year\n",
    "df['Average MtCO₂e'] = df.mean(axis=1)\n",
    "\n",
    "# Create the plot using Plotly\n",
    "import plotly.express as px\n",
    "from IPython.display import display\n",
    "\n",
    "fig = px.line(df, x='Year', y='Average MtCO₂e', title='Average MtCO₂e for All Sectors per Year')\n",
    "\n",
    "# Add a caption annotation\n",
    "caption_text = \"Fig.1. This graph shows the average MtCO₂e for all countries per year\"\n",
    "fig.add_annotation(\n",
    "    x=0.5,  # x-coordinate for the annotation (0.5 = center of x-axis)\n",
    "    y=-0.24,  # y-coordinate for the annotation (negative value to position it below the graph)\n",
    "    xref=\"paper\",\n",
    "    yref=\"paper\",\n",
    "    text=caption_text,\n",
    "    showarrow=False,\n",
    "    font=dict(\n",
    "        size=13,\n",
    "        color=\"black\"))\n",
    "\n",
    "fig.write_image(\"figure1.png\")"
   ]
  },
  {
   "cell_type": "markdown",
   "id": "8697154f",
   "metadata": {},
   "source": [
    "![Plotly Figure](figure1.png)"
   ]
  },
  {
   "cell_type": "markdown",
   "id": "563d367b",
   "metadata": {},
   "source": [
    "## Argument 1\n",
    "Figure 1 shows an increasing trend of CO2 production per year of all the countries combined. The most shocking aspect of this graph is the fact that the increasing trend stays the same. In other words, the total emission of CO2 keeps rising at the same rate, with no sign of slowing down.This shows the urgency of developing a more efficient, more renewable and greener form of energy source to reduce the total emissions. \n"
   ]
  },
  {
   "cell_type": "code",
   "execution_count": 25,
   "id": "f30bb0e5",
   "metadata": {},
   "outputs": [],
   "source": [
    "sectors = df.columns[3:]  # Assuming the sector columns start from the fourth column\n",
    "\n",
    "fig = go.Figure()\n",
    "\n",
    "for sector in sectors:\n",
    "    average_values = df[sector].mean(axis=0)\n",
    "    fig.add_trace(go.Scatter(x=df['Year'], y=df[sector], mode='markers+lines', name=sector))\n",
    "\n",
    "fig.update_layout(title='Average MtCO₂e per Year for each Sector',\n",
    "                  xaxis_title='Year',\n",
    "                  yaxis_title='MtCO₂e')\n",
    "\n",
    "# Add a caption annotation\n",
    "caption_text = \"Fig.2. This graph shows the average MtCO₂e for each Sector per year\"\n",
    "fig.add_annotation(\n",
    "    x=0.5,  # x-coordinate for the annotation (0.5 = center of x-axis)\n",
    "    y=-0.24,  # y-coordinate for the annotation (negative value to position it below the graph)\n",
    "    xref=\"paper\",\n",
    "    yref=\"paper\",\n",
    "    text=caption_text,\n",
    "    showarrow=False,\n",
    "    font=dict(\n",
    "        size=13,\n",
    "        color=\"black\"\n",
    "    )\n",
    ")\n",
    "\n",
    "\n",
    "fig.write_image(\"figure2.png\")"
   ]
  },
  {
   "cell_type": "markdown",
   "id": "cdfb4495",
   "metadata": {},
   "source": [
    "![Plotly Figure](figure2.png)"
   ]
  },
  {
   "cell_type": "markdown",
   "id": "b535092d",
   "metadata": {},
   "source": [
    "## Argument 2\n",
    "Figure 2 shows the average emission of each sector per year, with every sector given a different color. The energy sector shows to have the highest average emissions of CO2 per year, followed by the electricity/heat sector. Only using this graph already gives the implication that the energy sector is the biggest cause of CO2 emissions. (Furthermore, if the energy sector is to be compared with the electricity/heat sector, there could be a correlation between the two sectors based on the growth trend of the two sectors.)\n"
   ]
  },
  {
   "cell_type": "code",
   "execution_count": 26,
   "id": "a4ad45c2",
   "metadata": {},
   "outputs": [],
   "source": [
    "sectors = df.columns[3:]  # Assuming the sector columns start from the fourth column\n",
    "average_values_total = df[sectors].mean().values  # Use .values to convert to a numpy array\n",
    "\n",
    "fig = go.Figure(data=[go.Pie(labels=sectors, values=average_values_total, hole=0.5)])\n",
    "\n",
    "fig.update_layout(title='Average MtCO₂e of Each Sector')\n",
    "\n",
    "# Add a caption annotation\n",
    "caption_text = \"Fig.3. This pie chart shows the percentage of MtCO₂e for each Sector from 1990 till 2019\"\n",
    "fig.add_annotation(\n",
    "    x=0.5,  # x-coordinate for the annotation (0.5 = center of x-axis)\n",
    "    y=-0.24,  # y-coordinate for the annotation (negative value to position it below the graph)\n",
    "    xref=\"paper\",\n",
    "    yref=\"paper\",\n",
    "    text=caption_text,\n",
    "    showarrow=False,\n",
    "    font=dict(\n",
    "        size=13,\n",
    "        color=\"black\"\n",
    "    )\n",
    ")\n",
    "\n",
    "\n",
    "fig.write_image(\"figure3.png\")\n"
   ]
  },
  {
   "cell_type": "markdown",
   "id": "e6aa44cd",
   "metadata": {},
   "source": [
    "![Plotly Figure](figure3.png)"
   ]
  },
  {
   "cell_type": "markdown",
   "id": "4e4f3e75",
   "metadata": {},
   "source": [
    "## Argument 3\n",
    "Figure 3 displays a donut chart where all the sectors are shown with their contribution of CO2 emission. Again, energy is the biggest polluter, being responsible for almost a half of the total CO2 emissions from all the sectors combined. Based on this chart, if the world wants to emit less CO2, everyone should start with searching for greener options in the energy sector.\n",
    "\n"
   ]
  },
  {
   "cell_type": "code",
   "execution_count": null,
   "id": "0d5824f8",
   "metadata": {},
   "outputs": [],
   "source": []
  }
 ],
 "metadata": {
  "kernelspec": {
   "display_name": "Python 3 (ipykernel)",
   "language": "python",
   "name": "python3"
  },
  "language_info": {
   "codemirror_mode": {
    "name": "ipython",
    "version": 3
   },
   "file_extension": ".py",
   "mimetype": "text/x-python",
   "name": "python",
   "nbconvert_exporter": "python",
   "pygments_lexer": "ipython3",
   "version": "3.10.6"
  }
 },
 "nbformat": 4,
 "nbformat_minor": 5
}
