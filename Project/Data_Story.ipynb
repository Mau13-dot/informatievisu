{
 "cells": [
  {
   "cell_type": "markdown",
   "id": "5013a8be",
   "metadata": {},
   "source": [
    "## Draft Data Story\n",
    "20-06-23\n",
    "- Maurits van der Does Willebois\n",
    "- Luc buijs\n",
    "- Lucas Woudstra\n",
    "- Finn Govers\n"
   ]
  },
  {
   "cell_type": "markdown",
   "id": "bcfd86fd",
   "metadata": {},
   "source": [
    "## Introduction\n",
    "\n",
    "Climate change is one of the most pressing debates of todays society, (most) scientists have come to the conclusion that if we don't do something quickly, humanity is in serious danger from the consequences. We decided to look at what the root of this problem is, more specificly, which industrial sector is currently the biggest threat to our society. There are a few obvious contenders, many may think the biggest emission source are fossil fuels, or more general the fuel industry. We will try to see wether this is accurate or not by comparing the emissions of different\n",
    "industries throughout the years. We have found two different perspectives: \n",
    "\n",
    "Our first perspective on the topic is that it is necessary to switch from fossil fuels to\n",
    "renewable energy sources. Fossil fuels have a massive impact on climate change due to their large\n",
    "amount of greenhouse gas emission. Immediate action is required to look for greener fuels and energy\n",
    "with lower amounts of greenhouse gas emission. This would help slow down the climate change drastically.\n",
    "\n",
    "Our second perspective is that the biggest problem isn’t the energy sector, but something\n",
    "entirely different. For instance a while ago it came to light how big of an impact the meat\n",
    "industry has on CO2 emissions across the world, because of how many acres of land\n",
    "espescially cows need to be fed and kept. Examples like this lead us to believe that the\n",
    "fossil fuel industrie probably isn’t the biggest threat to the rappid climate change\n",
    "happening right now."
   ]
  },
  {
   "cell_type": "markdown",
   "id": "5fc7d0e5",
   "metadata": {},
   "source": [
    "## Dataset and Preprocessing"
   ]
  },
  {
   "cell_type": "markdown",
   "id": "9e036439",
   "metadata": {},
   "source": [
    "We did not preprocess the dataset \"Energy data 1990 - 2020.csv\" in any way.\n",
    "\n",
    "However, we did preprocess the dataset \"historical_emissions.csv\" and saved the result as \"historical_emissions (cleanest).csv\". The preprocessing of this dataset went as follows:\n",
    "\n",
    "We removed all columns that only had one unique value. We also merged all rows that contained data about the same year but about different countries by summing up the CO2 emissions, so that we now had data about the global CO2 emissions instead of emissions of individual countries. Furthermore, we reorganised the data in a way that resembles a transposition: The original data had a unique column for every year, and had one column for all sectors with the value of that column for any row being the name of the sector about which that row contained data. But after our transformation, the dataset had one unique column for every sector, and had one column for all years with the value of that column for any row being the year about which that row contained data. Lastly, We merged the sectors \"Energy\" and \"Electricity/Heat\" by summing up their CO2 emission, because those sectors both belong to the energy production sector, which is the sector that we are interested in. We did all this preprocessing with the code displayed below:"
   ]
  },
  {
   "cell_type": "code",
   "execution_count": 1,
   "id": "73d5eafe",
   "metadata": {},
   "outputs": [],
   "source": [
    "\"\"\"\n",
    "CODE USED FOR PREPROCESSING:\n",
    "\n",
    "\n",
    "df2 = pd.read_csv('historical_emissions.csv')\n",
    "\n",
    "X = range(1990, 2020)\n",
    "sectors = list(df2['Sector'].unique())\n",
    "\n",
    "sector_dict = {}\n",
    "\n",
    "for sector in sectors:\n",
    "    if sector != 'Electricity/Heat':\n",
    "        sector_dict[sector] = []\n",
    "\n",
    "        for i in X:\n",
    "            if sector != 'Energy':\n",
    "                total_sector_emission = df2[df2['Sector'] == sector][f\"{i}\"].sum()\n",
    "                sector_dict[sector].append(total_sector_emission)\n",
    "            else:\n",
    "                total_energy_emission = df2[df2['Sector'] == sector][f\"{i}\"].sum()\n",
    "                total_elec_heat_emission = df2[df2['Sector'] == 'Electricity/Heat'][f\"{i}\"].sum()\n",
    "\n",
    "                total_sector_emission = total_energy_emission + total_elec_heat_emission\n",
    "                sector_dict[sector].append(total_sector_emission)\n",
    "\n",
    "frame = []\n",
    "\n",
    "for i in range(len(X)):\n",
    "    temp_lst = [X[i]]\n",
    "    \n",
    "    for key in sector_dict:\n",
    "        temp_lst.append(sector_dict[key][i])\n",
    "    \n",
    "    frame.append(temp_lst)\n",
    "    \n",
    "sectors.remove('Electricity/Heat')\n",
    "    \n",
    "df_vis_2 = pd.DataFrame(\n",
    "             frame,\n",
    "             columns = ['Year'] + sectors)\n",
    "             \n",
    "df_vis_2.to_csv('historical_emissions (cleanest).csv')\n",
    "\"\"\"\n",
    "\n",
    "print('', end='')"
   ]
  },
  {
   "cell_type": "markdown",
   "id": "d060fba0",
   "metadata": {},
   "source": [
    "## Use of Generative AI\n",
    "We used ChatGPT for the following things:\n",
    "\n",
    "Generate code that produced figure 4 when given a self-made figure made with matplotlib.pyplot.\n",
    "\n",
    "Generate code that produced figure 3 when given the relevant data from our datasets.\n",
    "\n",
    "Solve an issue with Github that prevented us from displaying figures."
   ]
  },
  {
   "cell_type": "markdown",
   "id": "40d52f81",
   "metadata": {},
   "source": [
    "## Link to GitHub Online Repository\n",
    "https://github.com/Mau13-dot/informatievisu/blob/main/Project/Data_Story.ipynb"
   ]
  },
  {
   "cell_type": "markdown",
   "id": "0686eb36",
   "metadata": {},
   "source": [
    "## Load Data"
   ]
  },
  {
   "cell_type": "code",
   "execution_count": 2,
   "id": "f96c07ca",
   "metadata": {},
   "outputs": [],
   "source": [
    "import pandas as pd\n",
    "import plotly.graph_objects as go\n",
    "import plotly.express as px\n",
    "import matplotlib.pyplot as plt\n",
    "import numpy as np\n",
    "import kaleido\n",
    "\n",
    "df = pd.read_csv('historical_emissions (cleanest).csv')\n",
    "df1 = pd.read_csv('Energy data 1990 - 2020.csv')"
   ]
  },
  {
   "cell_type": "markdown",
   "id": "e33db339",
   "metadata": {},
   "source": [
    "# Plot Data\n",
    "## First Perspective"
   ]
  },
  {
   "cell_type": "code",
   "execution_count": 3,
   "id": "f405e4d1",
   "metadata": {
    "scrolled": false
   },
   "outputs": [],
   "source": [
    "# Calculate the average MtCO₂e for all sectors per year\n",
    "df['Average MtCO₂e'] = df.mean(axis=1)\n",
    "\n",
    "# Create the plot using Plotly\n",
    "import plotly.express as px\n",
    "from IPython.display import display\n",
    "\n",
    "fig = px.line(df, x='Year', y='Average MtCO₂e', title='Average MtCO₂e for All Sectors per Year')\n",
    "\n",
    "# Add a caption annotation\n",
    "caption_text = \"Fig.1. This graph shows the average MtCO₂e for all countries per year\"\n",
    "fig.add_annotation(\n",
    "    x=0.5,  # x-coordinate for the annotation (0.5 = center of x-axis)\n",
    "    y=-0.24,  # y-coordinate for the annotation (negative value to position it below the graph)\n",
    "    xref=\"paper\",\n",
    "    yref=\"paper\",\n",
    "    text=caption_text,\n",
    "    showarrow=False,\n",
    "    font=dict(\n",
    "        size=13,\n",
    "        color=\"black\"))\n",
    "\n",
    "fig.write_image(\"figure1.png\")"
   ]
  },
  {
   "cell_type": "markdown",
   "id": "8697154f",
   "metadata": {},
   "source": [
    "![Plotly Figure](figure1.png)"
   ]
  },
  {
   "cell_type": "markdown",
   "id": "563d367b",
   "metadata": {},
   "source": [
    "### Argument 1\n",
    "Figure 1 shows an increasing trend of CO2 production per year of all the countries combined. The most shocking aspect of this graph is the fact that the increasing trend stays the same. In other words, the total emission of CO2 keeps rising at the same rate, with no sign of slowing down.This shows the urgency of developing a more efficient, more renewable and greener form of energy source to reduce the total emissions. \n"
   ]
  },
  {
   "cell_type": "code",
   "execution_count": 4,
   "id": "f30bb0e5",
   "metadata": {},
   "outputs": [],
   "source": [
    "sectors = df.columns[3:]  # Assuming the sector columns start from the fourth column\n",
    "\n",
    "fig = go.Figure()\n",
    "\n",
    "for sector in sectors:\n",
    "    average_values = df[sector].mean(axis=0)\n",
    "    fig.add_trace(go.Scatter(x=df['Year'], y=df[sector], mode='markers+lines', name=sector))\n",
    "\n",
    "fig.update_layout(title='Average MtCO₂e per Year for each Sector',\n",
    "                  xaxis_title='Year',\n",
    "                  yaxis_title='MtCO₂e')\n",
    "\n",
    "# Add a caption annotation\n",
    "caption_text = \"Fig.2. This graph shows the average MtCO₂e for each Sector per year\"\n",
    "fig.add_annotation(\n",
    "    x=0.5,  # x-coordinate for the annotation (0.5 = center of x-axis)\n",
    "    y=-0.24,  # y-coordinate for the annotation (negative value to position it below the graph)\n",
    "    xref=\"paper\",\n",
    "    yref=\"paper\",\n",
    "    text=caption_text,\n",
    "    showarrow=False,\n",
    "    font=dict(\n",
    "        size=13,\n",
    "        color=\"black\"\n",
    "    )\n",
    ")\n",
    "\n",
    "\n",
    "fig.write_image(\"figure2.png\")"
   ]
  },
  {
   "cell_type": "markdown",
   "id": "cdfb4495",
   "metadata": {},
   "source": [
    "![Plotly Figure](figure2.png)"
   ]
  },
  {
   "cell_type": "markdown",
   "id": "b535092d",
   "metadata": {},
   "source": [
    "### Argument 2\n",
    "Figure 2 shows the average emission of each sector per year, with every sector given a different color. The energy sector shows to have the highest average emissions of CO2 per year, followed by the electricity/heat sector. Only using this graph already gives the implication that the energy sector is the biggest cause of CO2 emissions. (Furthermore, if the energy sector is to be compared with the electricity/heat sector, there could be a correlation between the two sectors based on the growth trend of the two sectors.)\n"
   ]
  },
  {
   "cell_type": "code",
   "execution_count": 5,
   "id": "a4ad45c2",
   "metadata": {},
   "outputs": [],
   "source": [
    "sectors = df.columns[3:]  # Assuming the sector columns start from the fourth column\n",
    "average_values_total = df[sectors].mean().values  # Use .values to convert to a numpy array\n",
    "\n",
    "fig = go.Figure(data=[go.Pie(labels=sectors, values=average_values_total, hole=0.5)])\n",
    "\n",
    "fig.update_layout(title='Average MtCO₂e of Each Sector')\n",
    "\n",
    "# Add a caption annotation\n",
    "caption_text = \"Fig.3. This pie chart shows the percentage of MtCO₂e for each Sector from 1990 till 2019\"\n",
    "fig.add_annotation(\n",
    "    x=0.5,  # x-coordinate for the annotation (0.5 = center of x-axis)\n",
    "    y=-0.24,  # y-coordinate for the annotation (negative value to position it below the graph)\n",
    "    xref=\"paper\",\n",
    "    yref=\"paper\",\n",
    "    text=caption_text,\n",
    "    showarrow=False,\n",
    "    font=dict(\n",
    "        size=13,\n",
    "        color=\"black\"\n",
    "    )\n",
    ")\n",
    "\n",
    "\n",
    "fig.write_image(\"figure3.png\")\n"
   ]
  },
  {
   "cell_type": "markdown",
   "id": "e6aa44cd",
   "metadata": {},
   "source": [
    "![Plotly Figure](figure3.png)"
   ]
  },
  {
   "cell_type": "markdown",
   "id": "4e4f3e75",
   "metadata": {},
   "source": [
    "### Argument 3\n",
    "Figure 3 displays a donut chart where all the sectors are shown with their contribution of CO2 emission. Again, energy is the biggest polluter, being responsible for almost a half of the total CO2 emissions from all the sectors combined. Based on this chart, if the world wants to emit less CO2, everyone should start with searching for greener options in the energy sector.\n",
    "\n"
   ]
  },
  {
   "cell_type": "markdown",
   "id": "862b6623",
   "metadata": {},
   "source": [
    "## Second Perspective"
   ]
  },
  {
   "cell_type": "code",
   "execution_count": 6,
   "id": "0d5824f8",
   "metadata": {},
   "outputs": [],
   "source": [
    "total_electricity = df1['Electricity production (TWh)']\n",
    "renewable_electricity = df1['Share of renewables in electricity production (%)']\n",
    "\n",
    "df1['Productiojn that is not green (%)'] = 100 - renewable_electricity\n",
    "average_df = df1.groupby('Year').mean().reset_index()\n",
    "\n",
    "fig = px.area(average_df, x='Year', y=['Share of renewables in electricity production (%)', 'Productiojn that is not green (%)'],\n",
    "              labels={'value': '%', 'variable': 'Energy Type'},\n",
    "              title='Percentages of non-renewable vs renewable energy being produced')\n",
    "\n",
    "\n",
    "fig.update_layout(legend_title_text='Energy Type')\n",
    "\n",
    "\n",
    "# Add a caption annotation\n",
    "caption_text = \"Fig.4. This figure displays the fact that the percentage of renewable energy being produces is already growing\"\n",
    "fig.add_annotation(\n",
    "    x=0.5,  # x-coordinate for the annotation (0.5 = center of x-axis)\n",
    "    y=-0.24,  # y-coordinate for the annotation (negative value to position it below the graph)\n",
    "    xref=\"paper\",\n",
    "    yref=\"paper\",\n",
    "    text=caption_text,\n",
    "    showarrow=False,\n",
    "    font=dict(\n",
    "        size=13,\n",
    "        color=\"black\"\n",
    "    )\n",
    ")\n",
    "fig.write_image(\"figure4.png\")\n"
   ]
  },
  {
   "cell_type": "markdown",
   "id": "9b1d5699",
   "metadata": {},
   "source": [
    "### Argument 1\n",
    "Figure 4 displays an area chart that gives us a good look at how the energy sector is already improng on using renewable energy sources, in the last 10 years almost 10% of energy produced has gotten renewable. This may not seem like a lot, but when you see that the trend is also rising, meaning that the growth is getting larger and larger each year, one can be positive-minded about the future of humanity. This shows that the energy sector is already working hard at finding greener sources, so to really make all the difference we might need to look elsewhere in sectors where this kind of development is not yet in full motion."
   ]
  },
  {
   "cell_type": "code",
   "execution_count": 7,
   "id": "74aed50e",
   "metadata": {},
   "outputs": [],
   "source": [
    "X = np.array(range(1990, 2021))\n",
    "\n",
    "Y_prod = np.array(\n",
    "    [df1[df1['Year'] == x]['Total energy production (Mtoe)'].sum()\n",
    "    for x in X]\n",
    ")\n",
    "Y_cons = np.array(\n",
    "    [df1[df1['Year'] == x]['Total energy consumption (Mtoe)'].sum()\n",
    "    for x in X]\n",
    ")\n",
    "\n",
    "prod = Y_prod / Y_prod * 100\n",
    "cons = Y_cons / Y_prod * 100\n",
    "diff = (Y_prod - Y_cons) / Y_cons * 100\n",
    "    \n",
    "fig = go.Figure()\n",
    "fig.add_trace(go.Scatter(\n",
    "    name='Energy Need',\n",
    "    x=X, y=cons,\n",
    "    hoverinfo='x+y',\n",
    "    mode='lines',\n",
    "    line=dict(width=0.5, color='green'),\n",
    "    stackgroup='one' # define stack group\n",
    "))\n",
    "fig.add_trace(go.Scatter(\n",
    "    name='Energy Surplus',\n",
    "    x=X, y=diff,\n",
    "    hoverinfo='x+y',\n",
    "    mode='lines',\n",
    "    line=dict(width=0.5, color='red'),\n",
    "    stackgroup='one'\n",
    "))\n",
    "\n",
    "fig.update_xaxes(title_text=\"Year\")\n",
    "fig.update_yaxes(title_text=\"Percentage of Produced Energy\")\n",
    "fig.update_layout(yaxis_range=(0, 100), height=500, width=800,\n",
    "                  title='Share of Needed and Unutilized Energy of Total Energy Production')\n",
    "\n",
    "caption_text = 'Fig.5. This area plot shows that we need almost all of the energy that we produce.'\n",
    "fig.add_annotation(\n",
    "    x=0.5,  # x-coordinate for the annotation (0.5 = center of x-axis)\n",
    "    y=-0.24,  # y-coordinate for the annotation (negative value to position it below the graph)\n",
    "    xref=\"paper\",\n",
    "    yref=\"paper\",\n",
    "    text=caption_text,\n",
    "    showarrow=False,\n",
    "    font=dict(\n",
    "        size=13,\n",
    "        color=\"black\"\n",
    "    )\n",
    ")\n",
    "\n",
    "fig.write_image('figure5.png')"
   ]
  },
  {
   "cell_type": "markdown",
   "id": "7c192682",
   "metadata": {},
   "source": [
    "### Argument 2\n",
    "There is a reason that the energy sector is so big: we need energy for a lot of things and we can't so easily use less energy, which means that we should be careful about setting limitations for how much energy we can produce. The only CO2 emissions from energy that we should try to decrease are the emissions that result from unneccessary energy production. However, there is only is small amount of energy that we produce but don't use, as seen in figure 5. This means that there is only a small amount of unneccessary CO2 emissions that is caused by the energy sector: much less than one would initially expect."
   ]
  },
  {
   "cell_type": "code",
   "execution_count": 8,
   "id": "863c0aaf",
   "metadata": {},
   "outputs": [],
   "source": [
    "last_years = 10\n",
    "\n",
    "x = np.array(df['Year'])[-last_years:]\n",
    "sectors = list(df.columns)\n",
    "\n",
    "# Make dict\n",
    "energy_rest_dict = {\n",
    "    'Year': x,\n",
    "    'Energy': np.array(df['Energy'])[-last_years:],\n",
    "    'Rest': np.zeros(len(x[-last_years:]))\n",
    "}\n",
    "\n",
    "# Fill 'Rest' category\n",
    "for sector in sectors:\n",
    "    if sector != 'Year' and sector != 'Energy':\n",
    "        energy_rest_dict['Rest'] += np.array(df[sector])[-last_years:]\n",
    "        \n",
    "# Find derivatives\n",
    "for key in energy_rest_dict:\n",
    "    if key != 'Year':\n",
    "        y = np.array(energy_rest_dict[key])\n",
    "        \n",
    "        # Normalize\n",
    "        y /= max(y)\n",
    "\n",
    "        dy = np.zeros(y.shape)\n",
    "        dy[0:-1] = np.diff(y)/np.diff(x)\n",
    "        dy[-1] = (y[-1] - y[-2])/(x[-1] - x[-2])\n",
    "        \n",
    "        energy_rest_dict[key] = dy\n",
    "        \n",
    "frame = []\n",
    "\n",
    "for i in range(len(x)):\n",
    "    temp_lst = []\n",
    "    \n",
    "    for key in energy_rest_dict:\n",
    "        temp_lst.append(energy_rest_dict[key][i])\n",
    "    \n",
    "    frame.append(temp_lst)\n",
    "    \n",
    "df_vis_4 = pd.DataFrame(\n",
    "             frame,\n",
    "             columns = ['Year', 'Energy', 'Average of All Other Sectors'])\n",
    "\n",
    "df_vis_4 = df_vis_4.melt(id_vars='Year', value_vars=['Year', 'Energy', 'Average of All Other Sectors'])\n",
    "\n",
    "fig = px.line(df_vis_4, x='Year' , y='value' , color='variable')\n",
    "\n",
    "fig.update_xaxes(title_text=\"Year\")\n",
    "fig.update_yaxes(title_text=\"Growth of CO2 Emissions\")\n",
    "fig.update_layout(height=500, width=800,\n",
    "                  title='Growth of CO2 Emissions for Different Sectors in the Last 10 Years')\n",
    "\n",
    "caption_text = \"Fig.6. This line chart shows that the energy sector is \\\n",
    "already slowing it's CO2 emissions faster than other sectors.\"\n",
    "fig.add_annotation(\n",
    "    x=0.5,  # x-coordinate for the annotation (0.5 = center of x-axis)\n",
    "    y=-0.2,  # y-coordinate for the annotation (negative value to position it below the graph)\n",
    "    xref=\"paper\",\n",
    "    yref=\"paper\",\n",
    "    text=caption_text,\n",
    "    showarrow=False,\n",
    "    font=dict(\n",
    "        size=13,\n",
    "        color=\"black\"\n",
    "    )\n",
    ")\n",
    "\n",
    "fig.write_image('figure6.png')"
   ]
  },
  {
   "cell_type": "markdown",
   "id": "1dba7bb0",
   "metadata": {},
   "source": [
    "### Argument 3\n",
    "The energy sector may be responsible for most CO2 emissions because of the sheer size of the sector, but the energy sector is already making big steps in reducing it's CO2 emissions. In fact, the energy sector is reducing it's CO2 emissions faster than most other sectors, as seen in figure 6. In the last ten years, it has been rare for the energy sector to have faster growing CO2 emissions than the average of all other sectors. The energy sector even shows a downward trend in it's CO2 emission growth, whereas the average of all other sectors shows an upward trend. It seems that the energy sector is already making great progress in it's CO2 emissions, and that we should in fact focus on the other sectors to stimulate a reduction in their CO2 emission growth."
   ]
  },
  {
   "cell_type": "code",
   "execution_count": null,
   "id": "0428c76f",
   "metadata": {},
   "outputs": [],
   "source": []
  },
  {
   "cell_type": "code",
   "execution_count": null,
   "id": "81aef26e",
   "metadata": {},
   "outputs": [],
   "source": []
  }
 ],
 "metadata": {
  "kernelspec": {
   "display_name": "Python 3 (ipykernel)",
   "language": "python",
   "name": "python3"
  },
  "language_info": {
   "codemirror_mode": {
    "name": "ipython",
    "version": 3
   },
   "file_extension": ".py",
   "mimetype": "text/x-python",
   "name": "python",
   "nbconvert_exporter": "python",
   "pygments_lexer": "ipython3",
   "version": "3.8.10"
  }
 },
 "nbformat": 4,
 "nbformat_minor": 5
}
